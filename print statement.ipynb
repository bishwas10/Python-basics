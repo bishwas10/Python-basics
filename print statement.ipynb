{
 "cells": [
  {
   "cell_type": "markdown",
   "id": "002c6bef-035d-42e0-a1b4-11d12f357908",
   "metadata": {},
   "source": [
    "# Print Statement"
   ]
  },
  {
   "cell_type": "code",
   "execution_count": 4,
   "id": "32a82647-1612-4e6e-89b5-7ff90403a164",
   "metadata": {},
   "outputs": [
    {
     "name": "stdout",
     "output_type": "stream",
     "text": [
      "Hello World\n"
     ]
    }
   ],
   "source": [
    "# Print is case sensitive\n",
    "# Print Hello world\n",
    "print(\"Hello World\")\n"
   ]
  },
  {
   "cell_type": "code",
   "execution_count": 6,
   "id": "f345206e-2f89-49f5-a7fe-e0a4e58f69f3",
   "metadata": {},
   "outputs": [
    {
     "name": "stdout",
     "output_type": "stream",
     "text": [
      "Mandira Ghimire\n"
     ]
    }
   ],
   "source": [
    "print(\"Mandira Ghimire\")"
   ]
  },
  {
   "cell_type": "code",
   "execution_count": 8,
   "id": "696eeec6-08c2-4a9b-bfc7-3ba649309462",
   "metadata": {},
   "outputs": [
    {
     "name": "stdout",
     "output_type": "stream",
     "text": [
      "Bishwas Thapa\n"
     ]
    }
   ],
   "source": [
    "print(\"Bishwas Thapa\")"
   ]
  },
  {
   "cell_type": "code",
   "execution_count": 11,
   "id": "4b36586d-d1d6-4086-839e-89b73ec7c033",
   "metadata": {},
   "outputs": [
    {
     "name": "stdout",
     "output_type": "stream",
     "text": [
      "True\n"
     ]
    }
   ],
   "source": [
    "print(True)"
   ]
  },
  {
   "cell_type": "code",
   "execution_count": 13,
   "id": "b9312132-2e4d-4398-b5b9-179183e856ce",
   "metadata": {},
   "outputs": [
    {
     "name": "stdout",
     "output_type": "stream",
     "text": [
      "Hello 1 4 5 True\n"
     ]
    }
   ],
   "source": [
    "print(\"Hello\",1,4,5,True)"
   ]
  },
  {
   "cell_type": "code",
   "execution_count": 17,
   "id": "002fcae3-3487-4810-8376-19c264288f69",
   "metadata": {},
   "outputs": [
    {
     "name": "stdout",
     "output_type": "stream",
     "text": [
      "Hello\n",
      "World\n"
     ]
    }
   ],
   "source": [
    "print(\"Hello\")\n",
    "print(\"World\")"
   ]
  },
  {
   "cell_type": "code",
   "execution_count": 19,
   "id": "1ac95ea9-9616-4faa-9481-35c85067da35",
   "metadata": {},
   "outputs": [
    {
     "name": "stdout",
     "output_type": "stream",
     "text": [
      "hello-World\n"
     ]
    }
   ],
   "source": [
    "print(\"hello\", end = \"-\")\n",
    "print(\"World\")"
   ]
  },
  {
   "cell_type": "code",
   "execution_count": null,
   "id": "9330fa20-3991-4ac7-89f8-93e6ee208faa",
   "metadata": {},
   "outputs": [],
   "source": []
  }
 ],
 "metadata": {
  "kernelspec": {
   "display_name": "Python [conda env:base] *",
   "language": "python",
   "name": "conda-base-py"
  },
  "language_info": {
   "codemirror_mode": {
    "name": "ipython",
    "version": 3
   },
   "file_extension": ".py",
   "mimetype": "text/x-python",
   "name": "python",
   "nbconvert_exporter": "python",
   "pygments_lexer": "ipython3",
   "version": "3.12.7"
  }
 },
 "nbformat": 4,
 "nbformat_minor": 5
}
