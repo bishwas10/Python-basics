{
 "cells": [
  {
   "cell_type": "markdown",
   "id": "fddc66f4-fc3b-4084-bed9-e0759f946ca1",
   "metadata": {},
   "source": [
    "# Data types"
   ]
  },
  {
   "cell_type": "markdown",
   "id": "fd31ec24-383f-4b0d-b0bd-9fa0b265e5bf",
   "metadata": {},
   "source": [
    "# Integer"
   ]
  },
  {
   "cell_type": "code",
   "execution_count": 2,
   "id": "8158cf00-06bc-478d-a560-a36df15b9b92",
   "metadata": {},
   "outputs": [],
   "source": [
    "# Integer\n",
    "#An integer is a whole number - it has no decimal point.\n",
    "# For example 10 , -5 , 0 , 1000\n"
   ]
  },
  {
   "cell_type": "markdown",
   "id": "1be4314e-869f-4b90-a226-e8e2dd639962",
   "metadata": {},
   "source": [
    "# Check Data Type"
   ]
  },
  {
   "cell_type": "code",
   "execution_count": 84,
   "id": "173c25e6-15a9-4646-84db-8815635be5ce",
   "metadata": {},
   "outputs": [
    {
     "name": "stdout",
     "output_type": "stream",
     "text": [
      "8\n"
     ]
    }
   ],
   "source": [
    "print(8)"
   ]
  },
  {
   "cell_type": "code",
   "execution_count": 86,
   "id": "d5e3b3e9-8fc2-4019-a07f-f9d7285e89af",
   "metadata": {},
   "outputs": [
    {
     "name": "stdout",
     "output_type": "stream",
     "text": [
      "<class 'int'>\n"
     ]
    }
   ],
   "source": [
    " x =  42\n",
    "print(type(x))"
   ]
  },
  {
   "cell_type": "code",
   "execution_count": 88,
   "id": "96ea6aa7-6043-4ac1-9151-7e92233822de",
   "metadata": {},
   "outputs": [
    {
     "name": "stdout",
     "output_type": "stream",
     "text": [
      "inf\n"
     ]
    }
   ],
   "source": [
    "print (1e309)"
   ]
  },
  {
   "cell_type": "code",
   "execution_count": 90,
   "id": "b8c74948-16ac-43f3-a601-074acddba148",
   "metadata": {},
   "outputs": [
    {
     "name": "stdout",
     "output_type": "stream",
     "text": [
      "1e+308\n"
     ]
    }
   ],
   "source": [
    "print(1e308)"
   ]
  },
  {
   "cell_type": "markdown",
   "id": "e71c9836-a31b-48c0-8db9-710a7494f968",
   "metadata": {},
   "source": [
    "# Arithmetic with integers:"
   ]
  },
  {
   "cell_type": "code",
   "execution_count": 21,
   "id": "ed2699f1-fe14-48ac-a8a9-a9eadf353c44",
   "metadata": {},
   "outputs": [
    {
     "name": "stdout",
     "output_type": "stream",
     "text": [
      "13\n",
      "7\n",
      "30\n",
      "1000\n",
      "3\n",
      "1\n"
     ]
    }
   ],
   "source": [
    "a = 10\n",
    "b = 3\n",
    "print(a+b) \n",
    "print(a-b)\n",
    "print(a*b)\n",
    "print(a**b)\n",
    "print(a//b) # Integer division ->3\n",
    "print(a%b) # Modulo division (remainder ) -> 1"
   ]
  },
  {
   "cell_type": "markdown",
   "id": "e4360dbd-b17f-4359-9d58-4da79300367b",
   "metadata": {},
   "source": [
    "# Converting to integer"
   ]
  },
  {
   "cell_type": "code",
   "execution_count": 19,
   "id": "8935ba15-3b4c-4f0a-838c-48633a3d72e0",
   "metadata": {},
   "outputs": [
    {
     "name": "stdout",
     "output_type": "stream",
     "text": [
      "15\n",
      "3\n"
     ]
    }
   ],
   "source": [
    "# We can use int() to convert other data types (like strings or floats) to integers :\n",
    "x = int(\"15\")\n",
    "y = int(3.9)\n",
    "print(x) \n",
    "print(y)"
   ]
  },
  {
   "cell_type": "code",
   "execution_count": 23,
   "id": "a9624700-e395-49c7-8432-53cbe4ba994f",
   "metadata": {},
   "outputs": [
    {
     "name": "stdout",
     "output_type": "stream",
     "text": [
      "0\n"
     ]
    }
   ],
   "source": [
    "print( 10 %2)"
   ]
  },
  {
   "cell_type": "code",
   "execution_count": 25,
   "id": "5f34742b-b478-4e6c-b33d-10074b47c021",
   "metadata": {},
   "outputs": [
    {
     "name": "stdout",
     "output_type": "stream",
     "text": [
      "1\n"
     ]
    }
   ],
   "source": [
    "print( 10 % 3)"
   ]
  },
  {
   "cell_type": "code",
   "execution_count": 27,
   "id": "fa9fbffa-ead8-410c-8d51-d0d352a64cdc",
   "metadata": {},
   "outputs": [
    {
     "name": "stdout",
     "output_type": "stream",
     "text": [
      "9\n"
     ]
    }
   ],
   "source": [
    "print( 3* (2+1))"
   ]
  },
  {
   "cell_type": "code",
   "execution_count": 29,
   "id": "a556f232-529d-49e7-9a45-b735bcf1635d",
   "metadata": {},
   "outputs": [
    {
     "name": "stdout",
     "output_type": "stream",
     "text": [
      "6\n"
     ]
    }
   ],
   "source": [
    "print(3*2*1)"
   ]
  },
  {
   "cell_type": "code",
   "execution_count": 33,
   "id": "c732bd7c-047c-406d-aa72-4d36526b1150",
   "metadata": {},
   "outputs": [
    {
     "name": "stdout",
     "output_type": "stream",
     "text": [
      "2\n"
     ]
    }
   ],
   "source": [
    " num = 1\n",
    "num += 1\n",
    "print(num)\n",
    "\n"
   ]
  },
  {
   "cell_type": "code",
   "execution_count": 35,
   "id": "daefb9e0-c400-4eeb-9194-b14d049e2e71",
   "metadata": {},
   "outputs": [
    {
     "name": "stdout",
     "output_type": "stream",
     "text": [
      "3\n"
     ]
    }
   ],
   "source": [
    "print(abs(-3))"
   ]
  },
  {
   "cell_type": "code",
   "execution_count": 37,
   "id": "248da608-4a25-4bac-becb-454bf31d0639",
   "metadata": {},
   "outputs": [
    {
     "name": "stdout",
     "output_type": "stream",
     "text": [
      "4\n"
     ]
    }
   ],
   "source": [
    "print(round(3.75))"
   ]
  },
  {
   "cell_type": "code",
   "execution_count": 41,
   "id": "90b94d46-9e56-46f8-9584-4b7ea99dbd00",
   "metadata": {},
   "outputs": [
    {
     "name": "stdout",
     "output_type": "stream",
     "text": [
      "6\n"
     ]
    }
   ],
   "source": [
    "print(4+2)"
   ]
  },
  {
   "cell_type": "code",
   "execution_count": 43,
   "id": "6df571d4-6af2-452a-bdee-93c6968b4473",
   "metadata": {},
   "outputs": [
    {
     "name": "stdout",
     "output_type": "stream",
     "text": [
      "3.8\n"
     ]
    }
   ],
   "source": [
    "print(round(3.75,1))"
   ]
  },
  {
   "cell_type": "code",
   "execution_count": 45,
   "id": "655e5361-d23f-4055-a567-f37536dcabd8",
   "metadata": {},
   "outputs": [
    {
     "name": "stdout",
     "output_type": "stream",
     "text": [
      "10\n"
     ]
    }
   ],
   "source": [
    "print(4+6)"
   ]
  },
  {
   "cell_type": "code",
   "execution_count": 57,
   "id": "7f39c9e9-c47b-4105-a9f8-ca410bab86e0",
   "metadata": {},
   "outputs": [
    {
     "name": "stdout",
     "output_type": "stream",
     "text": [
      "300\n"
     ]
    }
   ],
   "source": [
    "num_1 = '100'\n",
    "num_2 = '200'\n",
    "num_1 = int(num_1)\n",
    "num_2 = int(num_2)\n",
    "print(num_1 + num_2)"
   ]
  },
  {
   "cell_type": "markdown",
   "id": "699b569c-b008-4a7d-82c5-ac99971a7bed",
   "metadata": {},
   "source": [
    "# Float\n",
    "Float is number that has a decimal point .\n",
    "Examples : 3.14 , -0.5, 0.0 etc"
   ]
  },
  {
   "cell_type": "code",
   "execution_count": 92,
   "id": "faed4878-34e3-4ab4-aa70-28925f92236d",
   "metadata": {},
   "outputs": [
    {
     "name": "stdout",
     "output_type": "stream",
     "text": [
      "8.55\n"
     ]
    }
   ],
   "source": [
    "print ( 8.55)"
   ]
  },
  {
   "cell_type": "code",
   "execution_count": 94,
   "id": "14d59445-27e6-4357-9123-8f09cdcf6112",
   "metadata": {},
   "outputs": [
    {
     "name": "stdout",
     "output_type": "stream",
     "text": [
      "1.7e+308\n"
     ]
    }
   ],
   "source": [
    "print(1.7e308)"
   ]
  },
  {
   "cell_type": "code",
   "execution_count": 96,
   "id": "96592acf-f072-4f9e-b15c-85c9b56662c9",
   "metadata": {},
   "outputs": [
    {
     "name": "stdout",
     "output_type": "stream",
     "text": [
      "inf\n"
     ]
    }
   ],
   "source": [
    "print(1.7e309)"
   ]
  },
  {
   "cell_type": "code",
   "execution_count": 66,
   "id": "c25a6b1d-7dea-4c13-b4b2-ae90187b5a80",
   "metadata": {},
   "outputs": [
    {
     "name": "stdout",
     "output_type": "stream",
     "text": [
      "<class 'float'>\n"
     ]
    }
   ],
   "source": [
    "# Declaring a float :\n",
    "pi = 3.14\n",
    "price = 99.99\n",
    "temp = -4.7\n",
    "print(type(pi))"
   ]
  },
  {
   "cell_type": "markdown",
   "id": "7ca09d89-d314-45e6-86ed-c7b2dc2669e4",
   "metadata": {},
   "source": [
    "# Arithemetic Operations with float"
   ]
  },
  {
   "cell_type": "code",
   "execution_count": 71,
   "id": "064654a4-d884-445c-9aec-dffebd4c9c5d",
   "metadata": {},
   "outputs": [
    {
     "name": "stdout",
     "output_type": "stream",
     "text": [
      "7.5\n",
      "3.5\n",
      "11.0\n",
      "2.75\n"
     ]
    }
   ],
   "source": [
    "a = 5.5\n",
    "b = 2.0\n",
    "print (a+b)\n",
    "print(a-b)\n",
    "print(a*b)\n",
    "print(a/b) # nomrmal division always returns flowt"
   ]
  },
  {
   "cell_type": "markdown",
   "id": "6c835e8f-670b-4073-849e-f73a4f6f68c0",
   "metadata": {},
   "source": [
    "# Coverting to float "
   ]
  },
  {
   "cell_type": "code",
   "execution_count": 74,
   "id": "81dafbb5-ac2e-498b-93b7-56ccf6f6a195",
   "metadata": {},
   "outputs": [
    {
     "name": "stdout",
     "output_type": "stream",
     "text": [
      "3.0\n",
      "4.4\n"
     ]
    }
   ],
   "source": [
    "x = float(3) # 3 becomes 3.0\n",
    "y = float(\"4.4\") # string to float\n",
    "print(x)\n",
    "print(y)"
   ]
  },
  {
   "cell_type": "code",
   "execution_count": 76,
   "id": "396ea8bf-c7b1-4907-9c09-90cb31b88ac0",
   "metadata": {},
   "outputs": [
    {
     "name": "stdin",
     "output_type": "stream",
     "text": [
      "Enter item price :  100\n"
     ]
    },
    {
     "name": "stdout",
     "output_type": "stream",
     "text": [
      "Tax is :  10.0\n",
      "Total Price is : 110.0\n"
     ]
    }
   ],
   "source": [
    "# Ask user for item and add tax\n",
    "price = float (input(\"Enter item price : \" ))\n",
    "tax = price * 0.1\n",
    "total = price + tax\n",
    "print( \"Tax is : \" , tax)\n",
    "print(\"Total Price is :\", total)"
   ]
  },
  {
   "cell_type": "markdown",
   "id": "7e6710da-359a-481e-84c4-79d477c1d7bd",
   "metadata": {},
   "source": [
    "# Boolean \n",
    "A boolean in python is a data type with only two possible values : True and False"
   ]
  },
  {
   "cell_type": "code",
   "execution_count": 99,
   "id": "7ac6d55c-005b-463f-88a9-deba3443426c",
   "metadata": {},
   "outputs": [
    {
     "name": "stdout",
     "output_type": "stream",
     "text": [
      "True\n"
     ]
    }
   ],
   "source": [
    "print(True)"
   ]
  },
  {
   "cell_type": "code",
   "execution_count": 103,
   "id": "a41addec-c6a4-420b-9e06-d45bf5ace73b",
   "metadata": {},
   "outputs": [
    {
     "name": "stdout",
     "output_type": "stream",
     "text": [
      "False\n"
     ]
    }
   ],
   "source": [
    "print(False)"
   ]
  },
  {
   "cell_type": "code",
   "execution_count": 113,
   "id": "2942e6be-6510-4e5e-94e1-ca22d638be6e",
   "metadata": {},
   "outputs": [
    {
     "name": "stdout",
     "output_type": "stream",
     "text": [
      "True\n",
      "False\n"
     ]
    }
   ],
   "source": [
    "is_raining = True \n",
    "is_sunny = False\n",
    "print(is_raining) # True\n",
    "print(is_sunny) # False\n"
   ]
  },
  {
   "cell_type": "code",
   "execution_count": 115,
   "id": "3738211f-805f-4f2b-ba3e-0eed26938a35",
   "metadata": {},
   "outputs": [
    {
     "name": "stdout",
     "output_type": "stream",
     "text": [
      "<class 'bool'>\n"
     ]
    }
   ],
   "source": [
    "x = True\n",
    "print(type(x))"
   ]
  },
  {
   "cell_type": "markdown",
   "id": "b7efe5fd-ad1b-41c3-9d2a-7b108c24093e",
   "metadata": {},
   "source": [
    "# Booleans from Comparisions"
   ]
  },
  {
   "cell_type": "code",
   "execution_count": 120,
   "id": "944c92ea-1609-46dc-ac94-54c1cb4ccb8f",
   "metadata": {},
   "outputs": [
    {
     "name": "stdout",
     "output_type": "stream",
     "text": [
      "True\n",
      "True\n",
      "False\n",
      "True\n",
      "False\n"
     ]
    }
   ],
   "source": [
    "print(5>3)\n",
    "print(2==2)\n",
    "print(2 ==4)\n",
    "print(10<=10)\n",
    "print(3 != 3)\n"
   ]
  },
  {
   "cell_type": "code",
   "execution_count": 126,
   "id": "c501b174-86ed-49ab-b5e0-06df746f8afb",
   "metadata": {},
   "outputs": [
    {
     "name": "stdin",
     "output_type": "stream",
     "text": [
      "Enter your age:  12\n"
     ]
    },
    {
     "name": "stdout",
     "output_type": "stream",
     "text": [
      "Are you an adult ? False\n"
     ]
    }
   ],
   "source": [
    "# Boolean from User Input\n",
    "age = int(input(\"Enter your age: \"))\n",
    "is_adult = age >=18\n",
    "print(\"Are you an adult ?\", is_adult)"
   ]
  },
  {
   "cell_type": "code",
   "execution_count": 134,
   "id": "04bb6a73-539b-44d1-be51-18facfdd90da",
   "metadata": {},
   "outputs": [
    {
     "name": "stdin",
     "output_type": "stream",
     "text": [
      "Enter your age :  89\n"
     ]
    },
    {
     "name": "stdout",
     "output_type": "stream",
     "text": [
      "Can you vote ? True\n"
     ]
    }
   ],
   "source": [
    "# Ask for age and check if user is enough to vote or not :\n",
    "age = int(input(\"Enter your age : \"))\n",
    "can_vote = age >= 18\n",
    "print(\"Can you vote ?\" , can_vote)"
   ]
  },
  {
   "cell_type": "markdown",
   "id": "f06fd6ed-ba78-4904-95c1-556cfd1ec6b3",
   "metadata": {},
   "source": [
    "# String\n",
    "A string in python is a sequence of character (text), enclosed in quotes.\n",
    "Examples: \"Hello\" , \"python\" , \"123\" ,\"What's up \" etc."
   ]
  },
  {
   "cell_type": "code",
   "execution_count": 141,
   "id": "a4a677aa-b776-4ef3-bdeb-968098829b5b",
   "metadata": {},
   "outputs": [
    {
     "name": "stdout",
     "output_type": "stream",
     "text": [
      "<class 'str'>\n"
     ]
    }
   ],
   "source": [
    "greeting = \"Hello\"\n",
    "print(type(greeting))"
   ]
  },
  {
   "cell_type": "markdown",
   "id": "8670747a-3e54-4df2-9a05-e9df0ef32227",
   "metadata": {},
   "source": [
    "# String Operations"
   ]
  },
  {
   "cell_type": "code",
   "execution_count": 160,
   "id": "664a8343-9267-4efb-ab17-d4c55156cbcf",
   "metadata": {},
   "outputs": [
    {
     "name": "stdout",
     "output_type": "stream",
     "text": [
      "Hello World\n"
     ]
    }
   ],
   "source": [
    "first = \"Hello\"\n",
    "last = \"World\"\n",
    "full = first + \" \" + last\n",
    "print(full)"
   ]
  },
  {
   "cell_type": "code",
   "execution_count": 164,
   "id": "1a12001f-3e91-42b8-87fa-b1a7423d06ba",
   "metadata": {},
   "outputs": [
    {
     "name": "stdout",
     "output_type": "stream",
     "text": [
      "hahaha\n"
     ]
    }
   ],
   "source": [
    "# Strin Repetition:\n",
    "laugh = \"ha\"\n",
    "print(laugh * 3) "
   ]
  },
  {
   "cell_type": "markdown",
   "id": "ac6ef2f5-459a-43c2-abc2-d3f5003663bf",
   "metadata": {},
   "source": [
    "# Accessing Characters \n",
    "Strings as like list of letters . We can use indexing :\n"
   ]
  },
  {
   "cell_type": "code",
   "execution_count": 170,
   "id": "9781a83c-8585-40d7-aa99-982d11e67bc3",
   "metadata": {},
   "outputs": [
    {
     "name": "stdout",
     "output_type": "stream",
     "text": [
      "P\n",
      "y\n"
     ]
    }
   ],
   "source": [
    "word = \"Python\"\n",
    "print(word[0])\n",
    "print(word[1])"
   ]
  },
  {
   "cell_type": "markdown",
   "id": "614b3670-3daf-4639-be40-255c90b952cb",
   "metadata": {},
   "source": [
    "# String Functions (Methods)\n",
    "Python gives us tools to work with strings:"
   ]
  },
  {
   "cell_type": "code",
   "execution_count": 187,
   "id": "64035c18-4176-4d07-b509-4a2addee686a",
   "metadata": {},
   "outputs": [
    {
     "name": "stdout",
     "output_type": "stream",
     "text": [
      "HELLO WORLD\n",
      "Hello world\n",
      "hello python\n",
      "11\n"
     ]
    }
   ],
   "source": [
    "text = \"hello world\"\n",
    "print(text.upper())\n",
    "print(text.capitalize())\n",
    "print(text.replace(\"world\",\"python\"))\n",
    "print(len(text))\n",
    "      "
   ]
  },
  {
   "cell_type": "markdown",
   "id": "ddd1a4e9-4d80-4e26-a3c8-47a8d03d7711",
   "metadata": {},
   "source": [
    "# f - Strings (Formatted strings)"
   ]
  },
  {
   "cell_type": "code",
   "execution_count": 190,
   "id": "fb358e48-5843-4d6b-9255-84f40926fa94",
   "metadata": {},
   "outputs": [
    {
     "name": "stdout",
     "output_type": "stream",
     "text": [
      "My name is Bishwas and I am 25 years old.\n"
     ]
    }
   ],
   "source": [
    "name = \"Bishwas\"\n",
    "age = 25\n",
    "print(f\"My name is {name} and I am {age} years old.\")"
   ]
  },
  {
   "cell_type": "code",
   "execution_count": null,
   "id": "5c86a9fa-66d6-4923-ad10-e87000356705",
   "metadata": {},
   "outputs": [],
   "source": []
  },
  {
   "cell_type": "code",
   "execution_count": null,
   "id": "619d8eba-418f-4138-b101-3f217f73d0ac",
   "metadata": {},
   "outputs": [],
   "source": []
  },
  {
   "cell_type": "code",
   "execution_count": null,
   "id": "62079fa6-7d7b-4da5-aeef-0230495865ad",
   "metadata": {},
   "outputs": [],
   "source": []
  }
 ],
 "metadata": {
  "kernelspec": {
   "display_name": "Python [conda env:base] *",
   "language": "python",
   "name": "conda-base-py"
  },
  "language_info": {
   "codemirror_mode": {
    "name": "ipython",
    "version": 3
   },
   "file_extension": ".py",
   "mimetype": "text/x-python",
   "name": "python",
   "nbconvert_exporter": "python",
   "pygments_lexer": "ipython3",
   "version": "3.12.7"
  }
 },
 "nbformat": 4,
 "nbformat_minor": 5
}
